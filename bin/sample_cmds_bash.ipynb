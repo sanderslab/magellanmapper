{
 "cells": [
  {
   "cell_type": "markdown",
   "id": "f421346c-3ee2-4498-bad4-fbb55da163f2",
   "metadata": {},
   "source": [
    "# Sample commands for MagellanMapper tasks\n",
    "\n",
    "This notebook demonstrates using MagellanMapper through its command-line interface. You can use the script in various ways:\n",
    "1. Copy the commands to your own Bash shell script\n",
    "1. Modify this notebook with your own image paths and run blocks for your desired tasks"
   ]
  },
  {
   "cell_type": "markdown",
   "id": "778b0276-5092-485a-8150-6653cdb19d37",
   "metadata": {},
   "source": [
    "## Prereqs\n",
    "\n",
    "- We assume that you've [installed MagellanMapper](https://github.com/sanderslab/magellanmapper#installation) in a Python environment or from the standalone installer\n",
    "- If you're using a Python environment, activate it (eg `conda activate mag` or `source <path-to-venv>/bin/activate`) before running this Notebook\n",
    "- Paths are relative to the `magellanmapper` folder\n",
    "- Running this Notebook requires the [Bash kernel](https://github.com/takluyver/bash_kernel) for Jupyter Notebook, which can be installed by:"
   ]
  },
  {
   "cell_type": "code",
   "execution_count": null,
   "id": "2f167c7d-5a19-406c-926c-ae2e8483df4f",
   "metadata": {},
   "outputs": [],
   "source": [
    "pip install bash_kernel\n",
    "python -m bash_kernel.install"
   ]
  },
  {
   "cell_type": "markdown",
   "id": "21d17006-8be2-45c6-87eb-4f666f1cbb6e",
   "metadata": {},
   "source": [
    "## Set up image paths\n",
    "\n",
    "First, let's set up variables to your image paths."
   ]
  },
  {
   "cell_type": "code",
   "execution_count": null,
   "id": "2828db81-6c13-40a0-a2fa-1d3c51f0cad4",
   "metadata": {},
   "outputs": [],
   "source": [
    "# Path to your image file.\n",
    "img_to_import=\"/base/path/to/your/image.czi\"\n",
    "\n",
    "# Main image base path. The \"base path\" is the name of the original image\n",
    "# file without an extension. MagellanMapper typically outputs files named\n",
    "# based on it so that you often only need to specify the base path instead of\n",
    "# exact filenames. For example, after importing img_to_import, the base\n",
    "# path \"/base/path/to/your/image\" can be used for most commands.\n",
    "img=\"${img_to_import%.*}\"\n",
    "\n",
    "# Downsampled image path. The exact path depends on the type of downsampling\n",
    "# performed.\n",
    "img_resized=\"${img}_resized(456,528,320)\"\n",
    "\n",
    "# Atlas profile for registration tasks. Common profiles are \"abaccfv3\" for\n",
    "# the Allen CCFv3 atlas, \"abae18pt5\" for the Allen Developing Mouse Brain E18.5\n",
    "# atlas, and \"whsrat\" for the Waxholm Space rat atlas.\n",
    "reg_profile=abaccfv3\n",
    "\n",
    "# set working directory to MagellanMapper folder\n",
    "if [[ -z \"$BASE_DIR\" ]]; then\n",
    "  BASE_DIR=\"${PWD}/..\"\n",
    "fi\n",
    "cd \"$BASE_DIR\"\n",
    "echo \"Set up paths\""
   ]
  },
  {
   "cell_type": "markdown",
   "id": "48f131f7-fa32-446f-9d27-827e1a400071",
   "metadata": {},
   "source": [
    "## Image import\n",
    "\n",
    "MagellanMapper typically requires images to be imported into a NumPy format for faster access and lower memory usage. We use BioFormats to import from many formats, including proprietary microscopy formats.\n",
    "\n",
    "To import from a microscopy file, we run the `import_only` processing task. It assumes that the image format includes metadata, but you can also specify metadata as below. The `-v` option is for verbose output, which is not necessary but can help with troubleshooting."
   ]
  },
  {
   "cell_type": "code",
   "execution_count": null,
   "id": "8861e6d9-982f-4091-8126-db0891c8b7bb",
   "metadata": {},
   "outputs": [],
   "source": [
    "./run.py --img \"$img_to_import\" --proc import_only -v"
   ]
  },
  {
   "cell_type": "markdown",
   "id": "de4432e4-087c-4aad-8773-72e9272967cf",
   "metadata": {},
   "source": [
    "You can manually specify metadata, which will take precedence over any corresponding settings discovered in the file. `resolutions` are image resolutions in x,y,z order. `magnification` and `zoom` are microscope objective values. See `--set_meta` in the [CLI reference](https://magellanmapper.readthedocs.io/en/latest/cli.html#command-line-argument-reference) for more metadata options."
   ]
  },
  {
   "cell_type": "code",
   "execution_count": null,
   "id": "a9c83576-782f-4f9d-b123-5246addf84ed",
   "metadata": {},
   "outputs": [],
   "source": [
    "./run.py --img \"$img_to_import\" --proc import_only -v \\\n",
    "  --set_meta resolutions=10.52,10.52,10 magnification=0.63 zoom=1.0"
   ]
  },
  {
   "cell_type": "markdown",
   "id": "38bafb6e-561f-4faa-b4c0-83a96f6141e1",
   "metadata": {},
   "source": [
    "Both single- and multi-plane TIF files can be imported into a volumetric NumPy file. To import a series of TIF files, their filenames should have the format: `name_ch_0.tif`, `name_ch_1.tif`, etc."
   ]
  },
  {
   "cell_type": "code",
   "execution_count": null,
   "id": "392356a2-b043-483c-8f3d-498a1b29b4a6",
   "metadata": {},
   "outputs": [],
   "source": [
    "./run.py --img \"${img_to_import%.*}.tif\" --proc import_only -v"
   ]
  },
  {
   "cell_type": "markdown",
   "id": "c7e63e3e-0f1a-4ea7-8863-adb8d8d984a9",
   "metadata": {},
   "source": [
    "To stitch multi-tile images, use the `pipelines.sh` script instead as described below.\n",
    "\n",
    "To view the image after import:"
   ]
  },
  {
   "cell_type": "code",
   "execution_count": null,
   "id": "2e618185-b340-4234-9075-00a9ed83f6ac",
   "metadata": {},
   "outputs": [],
   "source": [
    "./run.py --img \"$img\""
   ]
  }
 ],
 "metadata": {
  "kernelspec": {
   "display_name": "Bash",
   "language": "bash",
   "name": "bash"
  },
  "language_info": {
   "codemirror_mode": "shell",
   "file_extension": ".sh",
   "mimetype": "text/x-sh",
   "name": "bash"
  }
 },
 "nbformat": 4,
 "nbformat_minor": 5
}
